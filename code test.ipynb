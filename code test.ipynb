{
 "cells": [
  {
   "cell_type": "code",
   "execution_count": 12,
   "metadata": {},
   "outputs": [],
   "source": [
    "import xrkit as xrk\n",
    "import rioxarray as rxr\n",
    "import numpy as np"
   ]
  },
  {
   "cell_type": "code",
   "execution_count": 14,
   "metadata": {},
   "outputs": [
    {
     "data": {
      "text/plain": [
       "120"
      ]
     },
     "execution_count": 14,
     "metadata": {},
     "output_type": "execute_result"
    }
   ],
   "source": [
    "value_file = rxr.open_rasterio(r'D:\\ResearchData\\CHAP_SO2_Y10K_2018_V1.nc',\n",
    "                                masked=True).rio.write_crs('epsg:4326')\n",
    "zone_file = r'D:\\ResearchData\\China_county2013.shp'\n",
    "result = xrk.zonal_statistics(value_file, zone_file, 'CODE')\n",
    "np.isnan(result['mean']).sum()"
   ]
  },
  {
   "cell_type": "code",
   "execution_count": 13,
   "metadata": {},
   "outputs": [
    {
     "data": {
      "text/plain": [
       "20"
      ]
     },
     "execution_count": 13,
     "metadata": {},
     "output_type": "execute_result"
    }
   ],
   "source": [
    "value_file = rxr.open_rasterio(r'D:\\ResearchData\\CHAP_SO2_Y10K_2018_V1.nc',\n",
    "                                masked=True).rio.write_crs('epsg:4326')\n",
    "value_file = value_file.rio.reproject('epsg:4326', resolution=0.01)\n",
    "zone_file = r'D:\\ResearchData\\China_county2013.shp'\n",
    "result = xrk.zonal_statistics(value_file, zone_file, 'CODE')\n",
    "np.isnan(result['mean']).sum()"
   ]
  }
 ],
 "metadata": {
  "kernelspec": {
   "display_name": "gis",
   "language": "python",
   "name": "python3"
  },
  "language_info": {
   "codemirror_mode": {
    "name": "ipython",
    "version": 3
   },
   "file_extension": ".py",
   "mimetype": "text/x-python",
   "name": "python",
   "nbconvert_exporter": "python",
   "pygments_lexer": "ipython3",
   "version": "3.9.20"
  }
 },
 "nbformat": 4,
 "nbformat_minor": 2
}
