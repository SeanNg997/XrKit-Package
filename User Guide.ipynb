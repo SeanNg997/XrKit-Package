{
 "cells": [
  {
   "cell_type": "markdown",
   "metadata": {},
   "source": [
    "## xrkit库函数介绍"
   ]
  },
  {
   "cell_type": "markdown",
   "metadata": {},
   "source": [
    "### 导入xrkit库"
   ]
  },
  {
   "cell_type": "code",
   "execution_count": 1,
   "metadata": {},
   "outputs": [
    {
     "name": "stdout",
     "output_type": "stream",
     "text": [
      "1. get_files_in_directory：获取目录中的文件名称或路径\n",
      "2. print_file_save_time：打印文件保存时间\n",
      "3. csv_to_shp：csv文件转shp文件\n",
      "4. zonal_statistics：分区统计\n",
      "5. reproject_to_wgs84：投影到WGS84坐标系（对齐格网）\n",
      "6. aggregate：聚合\n",
      "7. parafun：并行计算\n"
     ]
    }
   ],
   "source": [
    "# 推荐使用以下方式导入xrkit库\n",
    "import xrkit as xrk\n",
    "xrk.show_functions()"
   ]
  },
  {
   "cell_type": "markdown",
   "metadata": {},
   "source": [
    "### 一、文件管理类"
   ]
  },
  {
   "cell_type": "markdown",
   "metadata": {},
   "source": [
    "##### 1. 获取目录中的文件名称或路径"
   ]
  },
  {
   "cell_type": "markdown",
   "metadata": {},
   "source": [
    "```python\n",
    "  get_files_in_directory(\n",
    "    folder_path: str= os.getcwd(),    # 文件夹路径（默认为当前路径）\n",
    "    extension: str='',                # （可选）按文件扩展名筛选，如'.tif'或'jpg'\n",
    "    rootpath: bool=False              # （可选）是否返回文件的完整路径\n",
    "  ) -> (list| list[str])              # 返回一个list列表\n",
    "```"
   ]
  },
  {
   "cell_type": "code",
   "execution_count": null,
   "metadata": {},
   "outputs": [
    {
     "name": "stdout",
     "output_type": "stream",
     "text": [
      "The number of files:  14\n",
      "['cambria.ttc', 'mingliub.ttc', 'msgothic.ttc', 'msjh.ttc', 'msjhbd.ttc']\n"
     ]
    }
   ],
   "source": [
    "import xrkit as xrk\n",
    "\n",
    "target_directory = r\"C:\\Windows\\Fonts\"\n",
    "\n",
    "file_list = xrk.get_files_in_directory(target_directory, \"ttc\")\n",
    "print(file_list[0:5])"
   ]
  },
  {
   "cell_type": "markdown",
   "metadata": {},
   "source": [
    "##### 2. 打印文件保存时间\n"
   ]
  },
  {
   "cell_type": "markdown",
   "metadata": {},
   "source": [
    "```python\n",
    "  print_file_save_time(\n",
    "    filename: str='File'     # 文件名\n",
    "  ) -> None                  # 无返回值\n",
    "```"
   ]
  },
  {
   "cell_type": "code",
   "execution_count": null,
   "metadata": {},
   "outputs": [
    {
     "name": "stdout",
     "output_type": "stream",
     "text": [
      "file.csv saved (2025-02-23 19:21:35)\n"
     ]
    }
   ],
   "source": [
    "import xrkit as xrk\n",
    "\n",
    "file_name = 'file.csv'\n",
    "\n",
    "xrk.print_file_save_time(file_name)"
   ]
  },
  {
   "cell_type": "markdown",
   "metadata": {},
   "source": [
    "### 二、数据处理类"
   ]
  },
  {
   "cell_type": "markdown",
   "metadata": {},
   "source": [
    "##### 1. csv文件转shp文件"
   ]
  },
  {
   "cell_type": "markdown",
   "metadata": {},
   "source": [
    "```python\n",
    "  csv_to_shp(\n",
    "    csv_path: str,                    # csv文件路径\n",
    "    shp_path: str,                    # shp文件路径\n",
    "    lon: str = 'lon',                 # （可选）csv文件经度列名，默认为'lon'\n",
    "    lat: str = 'lat',                 # （可选）csv文件纬度列名，默认为'lat'\n",
    "    input_crs: str = 'epsg:4326',     # （可选）经纬度坐标系，默认为'epsg:4326'\n",
    "    output_crs: Any | None = None     # （可选）输出坐标系，默认为与输入坐标系相同\n",
    "    encoding: str = 'auto',           # （可选）csv文件编码，默认为'auto'\n",
    "  ) -> None                           # 无返回值\n",
    "```"
   ]
  },
  {
   "cell_type": "code",
   "execution_count": null,
   "metadata": {},
   "outputs": [
    {
     "name": "stdout",
     "output_type": "stream",
     "text": [
      "全国医院列表_R.shp saved (2025-02-23 18:20:00)\n"
     ]
    }
   ],
   "source": [
    "import xrkit as xrk\n",
    "\n",
    "csv_name = r'D:\\WorkSpace\\Test\\全国医院列表_R.csv'\n",
    "shp_name = r'D:\\WorkSpace\\Test\\全国医院列表_R.shp'\n",
    "\n",
    "xrk.csv_to_shp(csv_name, shp_name, '经度', '纬度')"
   ]
  },
  {
   "cell_type": "markdown",
   "metadata": {},
   "source": [
    "##### 2. 分区统计"
   ]
  },
  {
   "cell_type": "markdown",
   "metadata": {},
   "source": [
    "```python\n",
    "  zonal_statistics(\n",
    "    value_file,                       # 值的文件路径（或xr.DataArray对象）\n",
    "    zone_file,                        # 分区的文件路径（或DataArray对象与GeoDataFrame对象）\n",
    "    zone_field: Any | None = None,    # （可选）分区文件的字段名\n",
    "    statistical_type: str = 'mean',     # （可选）统计类型，如'mean'、'sum'、'max'等，默认为'mean'\n",
    "    bins: Any | None = None,          # （可选）分区的分级，依据值进行分区时使用，如[0, 10, 20, 30]\n",
    "    write_raster: Any | None = None   # （可选）输出栅格文件路径，输出不同分区的统计值栅格\n",
    ") -> DataFrame                        # 返回一个DataFrame，包含统计结果\n",
    "```"
   ]
  },
  {
   "cell_type": "code",
   "execution_count": null,
   "metadata": {},
   "outputs": [
    {
     "name": "stdout",
     "output_type": "stream",
     "text": [
      "          mean classes\n",
      "0     4.574573     上海市\n",
      "1  1881.828425     云南省\n",
      "2  1014.215883  内蒙古自治区\n",
      "3   365.434573     北京市\n",
      "4   787.025546     台湾省\n"
     ]
    }
   ],
   "source": [
    "import xrkit as xrk\n",
    "\n",
    "value_file = r'D:\\WorkSpace\\耕地复垦潜力\\data\\Factors\\tif_1km\\dem.tif'\n",
    "zone_file = r'D:\\WorkSpace\\耕地复垦潜力\\data\\AdministrativeDivision\\province.shp'\n",
    "\n",
    "table = xrk.zonal_statistics(value_file, zone_file, '省')\n",
    "print(table.head())"
   ]
  },
  {
   "cell_type": "markdown",
   "metadata": {},
   "source": [
    "##### 3. 投影到WGS84坐标系（对齐格网）"
   ]
  },
  {
   "cell_type": "markdown",
   "metadata": {},
   "source": [
    "```python\n",
    "  reproject_to_wgs84(\n",
    "    input_raster: Any,                # 输入栅格文件路径（或DataArray对象）\n",
    "    output_raster: Any,               # 输出栅格文件路径\n",
    "    resolution: Any,                  # 输出栅格分辨率\n",
    "    resample_method: str = 'n'        # （可选）重采样方法，默认为'n'\n",
    ") -> None\n",
    "```"
   ]
  },
  {
   "cell_type": "code",
   "execution_count": null,
   "metadata": {},
   "outputs": [
    {
     "name": "stdout",
     "output_type": "stream",
     "text": [
      "connectivity_reproject.tif saved (2025-03-11 15:50:21)\n"
     ]
    }
   ],
   "source": [
    "import xrkit as xrk\n",
    "\n",
    "input = r'D:\\WorkSpace\\耕地复垦潜力\\data\\Factors\\tif_1km\\connectivity.tif'\n",
    "output = r'D:\\connectivity_reproject.tif'\n",
    "\n",
    "xrk.reproject_to_wgs84(input, output, 1)"
   ]
  },
  {
   "cell_type": "markdown",
   "metadata": {},
   "source": [
    "##### 4. 空间聚合"
   ]
  },
  {
   "cell_type": "markdown",
   "metadata": {},
   "source": [
    "```python\n",
    "  aggregate(\n",
    "    input_raster: Any,              # 输入栅格文件路径（或DataArray对象）\n",
    "    output_raster: Any,             # 输出栅格文件路径\n",
    "    resolution: Any,                # 聚合的分辨率\n",
    "    output_crs: str = 'EPSG:4326',  # （可选）输出坐标系（也可以是tif路径），默认为'EPSG:4326'\n",
    "    statistical_type: str = 'mean', # （可选）聚合的统计类型，默认为'mean'\n",
    "    resample_method: str = 'n'      # （可选）重采样方法，默认为'n'\n",
    "    align: bool = True              # （可选）当output_crs为tif路径时结果是否对齐该栅格，默认对齐\n",
    ") -> None\n",
    "```"
   ]
  },
  {
   "cell_type": "code",
   "execution_count": null,
   "metadata": {},
   "outputs": [
    {
     "name": "stdout",
     "output_type": "stream",
     "text": [
      "AC_1991_2018_1000_mask_mean.tif saved (2025-03-11 18:06:05)\n"
     ]
    }
   ],
   "source": [
    "import xrkit as xrk\n",
    "\n",
    "input = r'D:\\WorkSpace\\耕地复垦潜力\\data\\AbandonedCropland\\AC_1991_2018_1000_mask.tif'\n",
    "output = r'D:\\AC_1991_2018_1000_mask_mean.tif'\n",
    "\n",
    "xrk.aggregate(input, output, 0.1)"
   ]
  },
  {
   "cell_type": "markdown",
   "metadata": {},
   "source": [
    "##### 5. 并行计算"
   ]
  },
  {
   "cell_type": "markdown",
   "metadata": {},
   "source": [
    "```python\n",
    "  parafun(\n",
    "    fun: Any,                                 # 需要并行的函数\n",
    "    params: Any,                              # 函数的参数\n",
    "    ncore: int = multiprocessing.cpu_count()  # （可选）并行的核数，默认为CPU所有核数（不推荐启用全部）\n",
    ") -> list                                     # 返回一个list列表，包含函数的返回值\n",
    "```"
   ]
  },
  {
   "cell_type": "code",
   "execution_count": null,
   "metadata": {},
   "outputs": [],
   "source": [
    "# ！！！\n",
    "# 以下代码需要在py文件中运行，jupyter notebook中无法运行\n",
    "# ！！！\n",
    "\n",
    "import xrkit as xrk\n",
    "\n",
    "def run(x):\n",
    "    for i in range(10000000):\n",
    "        x = x + 1\n",
    "    return x\n",
    "\n",
    "if __name__ == \"__main__\":\n",
    "    params = list(range(100))\n",
    "    results = xrk.parafun(run, params)"
   ]
  },
  {
   "cell_type": "markdown",
   "metadata": {},
   "source": [
    "100%|███████████████████████████| 100/100 [00:04<00:00, 24.77it/s]\n",
    "\n",
    "All tasks are done."
   ]
  }
 ],
 "metadata": {
  "kernelspec": {
   "display_name": "gis",
   "language": "python",
   "name": "python3"
  },
  "language_info": {
   "codemirror_mode": {
    "name": "ipython",
    "version": 3
   },
   "file_extension": ".py",
   "mimetype": "text/x-python",
   "name": "python",
   "nbconvert_exporter": "python",
   "pygments_lexer": "ipython3",
   "version": "3.9.20"
  }
 },
 "nbformat": 4,
 "nbformat_minor": 2
}
